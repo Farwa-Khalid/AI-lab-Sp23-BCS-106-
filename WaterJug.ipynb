{
  "nbformat": 4,
  "nbformat_minor": 0,
  "metadata": {
    "colab": {
      "provenance": []
    },
    "kernelspec": {
      "name": "python3",
      "display_name": "Python 3"
    },
    "language_info": {
      "name": "python"
    }
  },
  "cells": [
    {
      "cell_type": "markdown",
      "source": [
        "\n",
        "**BFS**\n",
        "\n"
      ],
      "metadata": {
        "id": "l3qNilnxblCj"
      }
    },
    {
      "cell_type": "code",
      "execution_count": 1,
      "metadata": {
        "colab": {
          "base_uri": "https://localhost:8080/"
        },
        "id": "YfMgilaQbKTP",
        "outputId": "b7c60748-ed9f-4d90-aa36-f6fc255632d9"
      },
      "outputs": [
        {
          "output_type": "stream",
          "name": "stdout",
          "text": [
            "BFS Solution path:\n",
            "(0, 0)\n",
            "(4, 0)\n",
            "(1, 3)\n"
          ]
        }
      ],
      "source": [
        "\n",
        "\n",
        "from collections import deque\n",
        "\n",
        "JUG1 = 4\n",
        "JUG2 = 3\n",
        "GOAL = 1\n",
        "\n",
        "def water_jug_bfs():\n",
        "    start = (0, 0)\n",
        "    visited = set()\n",
        "    queue = deque([[start]])\n",
        "\n",
        "    while queue:\n",
        "        path = queue.popleft()\n",
        "        state = path[-1]\n",
        "\n",
        "        if state[0] == GOAL or state[1] == GOAL:\n",
        "            return path\n",
        "\n",
        "        if state in visited:\n",
        "            continue\n",
        "        visited.add(state)\n",
        "\n",
        "        x, y = state\n",
        "\n",
        "        next_states = [\n",
        "            (JUG1, y),\n",
        "            (x, JUG2),\n",
        "            (0, y),\n",
        "            (x, 0),\n",
        "            (x - min(x, JUG2 - y), y + min(x, JUG2 - y)),\n",
        "            (x + min(y, JUG1 - x), y - min(y, JUG1 - x))\n",
        "        ]\n",
        "\n",
        "        for nxt in next_states:\n",
        "            if nxt not in visited:\n",
        "                new_path = list(path)\n",
        "                new_path.append(nxt)\n",
        "                queue.append(new_path)\n",
        "    return None\n",
        "\n",
        "solution = water_jug_bfs()\n",
        "print(\"BFS Solution path:\")\n",
        "for step in solution:\n",
        "    print(step)"
      ]
    },
    {
      "cell_type": "markdown",
      "source": [
        "**DFS**"
      ],
      "metadata": {
        "id": "Fvl0FObObpiM"
      }
    },
    {
      "cell_type": "code",
      "source": [
        "\n",
        "\n",
        "def water_jug_dfs():\n",
        "    start = (0, 0)\n",
        "    stack = [[start]]\n",
        "    visited = set()\n",
        "\n",
        "    while stack:\n",
        "        path = stack.pop()\n",
        "        state = path[-1]\n",
        "\n",
        "        if state[0] == GOAL or state[1] == GOAL:\n",
        "            return path\n",
        "\n",
        "        if state in visited:\n",
        "            continue\n",
        "        visited.add(state)\n",
        "\n",
        "        x, y = state\n",
        "\n",
        "        next_states = [\n",
        "            (JUG1, y),\n",
        "            (x, JUG2),\n",
        "            (0, y),\n",
        "            (x, 0),\n",
        "            (x - min(x, JUG2 - y), y + min(x, JUG2 - y)),\n",
        "            (x + min(y, JUG1 - x), y - min(y, JUG1 - x))\n",
        "        ]\n",
        "\n",
        "        for nxt in next_states:\n",
        "            if nxt not in visited:\n",
        "                new_path = list(path)\n",
        "                new_path.append(nxt)\n",
        "                stack.append(new_path)\n",
        "    return None\n",
        "\n",
        "solution = water_jug_dfs()\n",
        "print(\"DFS Solution path:\")\n",
        "for step in solution:\n",
        "    print(step)"
      ],
      "metadata": {
        "colab": {
          "base_uri": "https://localhost:8080/"
        },
        "id": "oCTNnrH0bshC",
        "outputId": "1a538beb-16a8-40ac-dd13-59efc52cfb8c"
      },
      "execution_count": 2,
      "outputs": [
        {
          "output_type": "stream",
          "name": "stdout",
          "text": [
            "DFS Solution path:\n",
            "(0, 0)\n",
            "(0, 3)\n",
            "(3, 0)\n",
            "(3, 3)\n",
            "(4, 2)\n",
            "(4, 0)\n",
            "(1, 3)\n"
          ]
        }
      ]
    },
    {
      "cell_type": "markdown",
      "source": [
        "**Asteric Algorithm**"
      ],
      "metadata": {
        "id": "62OhqN1-bz5R"
      }
    },
    {
      "cell_type": "code",
      "source": [
        "\n",
        "\n",
        "import heapq\n",
        "\n",
        "def heuristic(state):\n",
        "    x, y = state\n",
        "    return min(abs(x - GOAL), abs(y - GOAL))\n",
        "\n",
        "def a_star_water_jug():\n",
        "    start = (0, 0)\n",
        "    open_list = []\n",
        "    heapq.heappush(open_list, (heuristic(start), 0, [start]))\n",
        "    visited = {}\n",
        "\n",
        "    while open_list:\n",
        "        f, g, path = heapq.heappop(open_list)\n",
        "        state = path[-1]\n",
        "\n",
        "        if state[0] == GOAL or state[1] == GOAL:\n",
        "            return path\n",
        "\n",
        "        if state in visited and visited[state] <= g:\n",
        "            continue\n",
        "        visited[state] = g\n",
        "\n",
        "        x, y = state\n",
        "        next_states = [\n",
        "            (JUG1, y),\n",
        "            (x, JUG2),\n",
        "            (0, y),\n",
        "            (x, 0),\n",
        "            (x - min(x, JUG2 - y), y + min(x, JUG2 - y)),\n",
        "            (x + min(y, JUG1 - x), y - min(y, JUG1 - x))\n",
        "        ]\n",
        "\n",
        "        for nxt in next_states:\n",
        "            if nxt not in visited or g + 1 < visited.get(nxt, float('inf')):\n",
        "                new_path = list(path)\n",
        "                new_path.append(nxt)\n",
        "                new_g = g + 1\n",
        "                new_f = new_g + heuristic(nxt)\n",
        "                heapq.heappush(open_list, (new_f, new_g, new_path))\n",
        "\n",
        "solution = a_star_water_jug()\n",
        "print(\"A* Solution path:\")\n",
        "for step in solution:\n",
        "    print(step)"
      ],
      "metadata": {
        "colab": {
          "base_uri": "https://localhost:8080/"
        },
        "id": "4tf0YrZyb4Zk",
        "outputId": "1d551e99-caf9-459c-af8e-c1dcbb500c44"
      },
      "execution_count": 3,
      "outputs": [
        {
          "output_type": "stream",
          "name": "stdout",
          "text": [
            "A* Solution path:\n",
            "(0, 0)\n",
            "(4, 0)\n",
            "(1, 3)\n"
          ]
        }
      ]
    },
    {
      "cell_type": "markdown",
      "source": [
        "Compare the solution paths found by BFS, DFS, and A*. **bold text**\n",
        "Comparison of BFS, DFS, and A* Search Algorithms (Water Jug Problem)\n",
        "1. Breadth-First Search (BFS)\n",
        "\n",
        "Solution Path: Always finds the shortest path to the goal because it explores states level by level.\n",
        "\n",
        "Optimality: Guarantees the shortest solution path.\n",
        "\n",
        "Time Complexity:\n",
        "𝑂\n",
        "(\n",
        "𝑏\n",
        "𝑑\n",
        ")\n",
        "O(b\n",
        "d\n",
        "), where\n",
        "𝑏\n",
        "b is the branching factor and\n",
        "𝑑\n",
        "d is the depth of the shallowest solution.\n",
        "\n",
        "Space Complexity:\n",
        "𝑂\n",
        "(\n",
        "𝑏\n",
        "𝑑\n",
        ")\n",
        "O(b\n",
        "d\n",
        "), as all nodes at the current level are stored in memory.\n",
        "\n",
        "Efficiency: Effective for small state spaces but memory-intensive for larger problems.\n",
        "\n",
        "2. Depth-First Search (DFS)\n",
        "\n",
        "Solution Path: May find a solution but not necessarily the shortest one, as it explores one branch deeply before backtracking.\n",
        "\n",
        "Optimality: Not guaranteed to return the shortest path.\n",
        "\n",
        "Time Complexity:\n",
        "𝑂\n",
        "(\n",
        "𝑏\n",
        "𝑚\n",
        ")\n",
        "O(b\n",
        "m\n",
        "), where\n",
        "𝑚\n",
        "m is the maximum depth of the search tree.\n",
        "\n",
        "Space Complexity:\n",
        "𝑂\n",
        "(\n",
        "𝑏\n",
        "𝑚\n",
        ")\n",
        "O(bm), as it only stores the current path and unexplored siblings.\n",
        "\n",
        "Efficiency: Memory-efficient, but can be time-inefficient, especially if the goal lies at shallow depth while the algorithm explores deep irrelevant paths.\n",
        "\n",
        "3. A* Search Algorithm\n",
        "\n",
        "Solution Path: Finds the shortest path using a heuristic to guide the search.\n",
        "\n",
        "Optimality: Guarantees optimal solution if the heuristic is admissible (never overestimates the cost).\n",
        "\n",
        "Time Complexity:\n",
        "𝑂\n",
        "(\n",
        "𝑏\n",
        "𝑑\n",
        ")\n",
        "O(b\n",
        "d\n",
        ") in the worst case, but usually explores fewer states than BFS due to heuristic guidance.\n",
        "\n",
        "Space Complexity: Higher than DFS, as it maintains both open and closed lists, but typically better than BFS for large problems.\n",
        "\n",
        "Efficiency: More efficient than BFS in practice because it prioritizes promising states, reducing unnecessary exploration.\n",
        "\n",
        "**Which algorithm gives the shortest path? Why?**\n",
        "BFS and A* both give the shortest path (3 steps).\n",
        "\n",
        "BFS guarantees shortest because it explores level by level.\n",
        "\n",
        "A* guarantees shortest if the heuristic is admissible (never overestimates the cost).\n",
        "\n",
        "**Which algorithm is more efficient in terms of time and memory?**\n",
        "DFS is memory-efficient (keeps fewer states), but not time-efficient since it may wander into long, irrelevant paths.\n",
        "\n",
        "BFS is time-efficient for small problems but memory-hungry as it stores all nodes at each depth.\n",
        "\n",
        "A* is generally the most efficient in practice—it balances between BFS (guaranteed shortest) and DFS (low memory) by using heuristics to guide the search."
      ],
      "metadata": {
        "id": "ezXzynbhcf9K"
      }
    }
  ]
}