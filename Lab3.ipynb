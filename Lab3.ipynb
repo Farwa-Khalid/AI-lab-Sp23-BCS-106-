{
  "nbformat": 4,
  "nbformat_minor": 0,
  "metadata": {
    "colab": {
      "provenance": []
    },
    "kernelspec": {
      "name": "python3",
      "display_name": "Python 3"
    },
    "language_info": {
      "name": "python"
    }
  },
  "cells": [
    {
      "cell_type": "markdown",
      "source": [
        "**Implement Breadth-First Search (BFS) and Depth-First Search (DFS) to find paths between various cities in Pakistan.**"
      ],
      "metadata": {
        "id": "O9b5yqGUFhwN"
      }
    },
    {
      "cell_type": "markdown",
      "source": [
        "**Step 1: Represent the graph**\n",
        "**Step 2: BFS and DFS Implementation**"
      ],
      "metadata": {
        "id": "z0vcazuCFrW-"
      }
    },
    {
      "cell_type": "code",
      "execution_count": 4,
      "metadata": {
        "colab": {
          "base_uri": "https://localhost:8080/"
        },
        "id": "isVHpkP8_VDR",
        "outputId": "fa1dc5df-2f36-42c0-e378-d1507bc60bcb"
      },
      "outputs": [
        {
          "output_type": "stream",
          "name": "stdout",
          "text": [
            "BFS Shortest Path from Hyderabad to Lahore: ['Hyderabad', 'Sukkur', 'Multan', 'Lahore']\n",
            "DFS Path from Hyderabad to Lahore: ['Hyderabad', 'Sukkur', 'Multan', 'Lahore']\n"
          ]
        }
      ],
      "source": [
        "from collections import deque\n",
        "\n",
        "pakistan_cities = {\n",
        "    'Karachi': ['Hyderabad'],\n",
        "    'Hyderabad': ['Karachi', 'Sukkur'],\n",
        "    'Sukkur': ['Hyderabad', 'Multan', 'Quetta'],\n",
        "    'Multan': ['Sukkur', 'Lahore'],\n",
        "    'Quetta': ['Sukkur'],\n",
        "    'Lahore': ['Multan', 'Islamabad'],\n",
        "    'Islamabad': ['Lahore', 'Peshawar'],\n",
        "    'Peshawar': ['Islamabad']\n",
        "}\n",
        "\n",
        "def bfs_shortest_path(graph, start, goal):\n",
        "    queue = deque([[start]])\n",
        "    visited = set()\n",
        "\n",
        "    while queue:\n",
        "        path = queue.popleft()\n",
        "        current_city = path[-1]\n",
        "\n",
        "        if current_city == goal:\n",
        "            return path\n",
        "\n",
        "        if current_city not in visited:\n",
        "            visited.add(current_city)\n",
        "            for neighbour in graph.get(current_city, []):\n",
        "                new_path = list(path)\n",
        "                new_path.append(neighbour)\n",
        "                queue.append(new_path)\n",
        "\n",
        "    return None\n",
        "\n",
        "# DFS for any path\n",
        "def dfs_path(graph, start, goal, path=None, visited=None):\n",
        "    if path is None:\n",
        "        path = []\n",
        "    if visited is None:\n",
        "        visited = set()\n",
        "\n",
        "    path.append(start)\n",
        "    visited.add(start)\n",
        "\n",
        "    if start == goal:\n",
        "        return path\n",
        "\n",
        "    for neighbour in graph.get(start, []):\n",
        "        if neighbour not in visited:\n",
        "            result = dfs_path(graph, neighbour, goal, path.copy(), visited.copy())\n",
        "            if result:\n",
        "                return result\n",
        "\n",
        "    return None\n",
        "\n",
        "\n",
        "# Test both\n",
        "start_city = \"Hyderabad\"\n",
        "goal_city = \"Lahore\"\n",
        "\n",
        "bfs_result = bfs_shortest_path(pakistan_cities, start_city, goal_city)\n",
        "print(\"BFS Shortest Path from Hyderabad to Lahore:\", bfs_result)\n",
        "\n",
        "dfs_result = dfs_path(pakistan_cities, start_city, goal_city)\n",
        "print(\"DFS Path from Hyderabad to Lahore:\", dfs_result)\n"
      ]
    }
  ]
}