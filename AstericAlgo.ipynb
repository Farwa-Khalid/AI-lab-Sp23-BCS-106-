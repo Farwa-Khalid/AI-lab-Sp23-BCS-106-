{
  "nbformat": 4,
  "nbformat_minor": 0,
  "metadata": {
    "colab": {
      "provenance": []
    },
    "kernelspec": {
      "name": "python3",
      "display_name": "Python 3"
    },
    "language_info": {
      "name": "python"
    }
  },
  "cells": [
    {
      "cell_type": "markdown",
      "source": [
        "**Asteric Algorithm**"
      ],
      "metadata": {
        "id": "lc3TGBUJT1U7"
      }
    },
    {
      "cell_type": "code",
      "execution_count": 9,
      "metadata": {
        "colab": {
          "base_uri": "https://localhost:8080/"
        },
        "id": "2naTvbeuFII4",
        "outputId": "e45fecc9-cd32-4408-865f-c2a30f39f4f5"
      },
      "outputs": [
        {
          "output_type": "stream",
          "name": "stdout",
          "text": [
            "A* path: ['Lahore', 'Faisalabad', 'Multan', 'Karachi']\n",
            "Total cost: 1280\n"
          ]
        }
      ],
      "source": [
        "import heapq\n",
        "\n",
        "graph = {\n",
        "    \"Lahore\": {\"Islamabad\": 270, \"Faisalabad\": 180},\n",
        "    \"Islamabad\": {\"Lahore\": 270, \"Peshawar\": 190},\n",
        "    \"Faisalabad\": {\"Lahore\": 180, \"Multan\": 220},\n",
        "    \"Multan\": {\"Faisalabad\": 220, \"Karachi\": 880},\n",
        "    \"Peshawar\": {\"Islamabad\": 190},\n",
        "    \"Karachi\": {\"Multan\": 880}\n",
        "}\n",
        "\n",
        "heuristic = {\n",
        "    \"Lahore\": 1210,\n",
        "    \"Islamabad\": 1100,\n",
        "    \"Faisalabad\": 1050,\n",
        "    \"Multan\": 880,\n",
        "    \"Peshawar\": 1250,\n",
        "    \"Karachi\": 0\n",
        "}\n",
        "\n",
        "def a_star(graph, start, goal, heuristic):\n",
        "    open_list = []\n",
        "    heapq.heappush(open_list, (heuristic[start], [start]))\n",
        "    g_costs = {start: 0}\n",
        "    closed_set = set()\n",
        "\n",
        "    while open_list:\n",
        "        f, path = heapq.heappop(open_list)\n",
        "        node = path[-1]\n",
        "\n",
        "        # Goal check\n",
        "        if node == goal:\n",
        "            return path, g_costs[node]\n",
        "\n",
        "        # Skip if already processed\n",
        "        if node in closed_set:\n",
        "            continue\n",
        "        closed_set.add(node)\n",
        "\n",
        "        # Expand neighbors\n",
        "        for neighbor, cost in graph[node].items():\n",
        "            tentative_g = g_costs[node] + cost\n",
        "            if neighbor not in g_costs or tentative_g < g_costs[neighbor]:\n",
        "                g_costs[neighbor] = tentative_g\n",
        "                f_cost = tentative_g + heuristic.get(neighbor, float('inf'))\n",
        "                new_path = path + [neighbor]\n",
        "                heapq.heappush(open_list, (f_cost, new_path))\n",
        "\n",
        "    # No path found\n",
        "    return None, float('inf')\n",
        "\n",
        "if __name__ == \"__main__\":\n",
        "    start_city = \"Lahore\"\n",
        "    goal_city = \"Karachi\"\n",
        "    path, cost = a_star(graph, start_city, goal_city, heuristic)\n",
        "    print(\"A* path:\", path)\n",
        "    print(\"Total cost:\", cost)\n"
      ]
    }
  ]
}