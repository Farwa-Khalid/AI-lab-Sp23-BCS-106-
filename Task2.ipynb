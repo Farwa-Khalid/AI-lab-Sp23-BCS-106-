{
  "nbformat": 4,
  "nbformat_minor": 0,
  "metadata": {
    "colab": {
      "provenance": []
    },
    "kernelspec": {
      "name": "python3",
      "display_name": "Python 3"
    },
    "language_info": {
      "name": "python"
    }
  },
  "cells": [
    {
      "cell_type": "markdown",
      "source": [
        "**Matplotlib**"
      ],
      "metadata": {
        "id": "5ZCwb987CxSL"
      }
    },
    {
      "cell_type": "markdown",
      "source": [
        "**Numpy**"
      ],
      "metadata": {
        "id": "yjnsoQSZDB_k"
      }
    },
    {
      "cell_type": "markdown",
      "source": [
        "**Dictionary**"
      ],
      "metadata": {
        "id": "5i-iCZEFDKdJ"
      }
    },
    {
      "cell_type": "code",
      "source": [
        "student={\"name\":\"Farwa\",\"Age\":22,\"Grade\":\"A\"}\n",
        "print(student)\n",
        "student[\"Age\"] = 23         # updates Age\n",
        "student[\"Grade\"] = \"A+\"     # updates Grade\n",
        "print(student)\n"
      ],
      "metadata": {
        "id": "Z9coT2PVKv9G",
        "colab": {
          "base_uri": "https://localhost:8080/"
        },
        "outputId": "d566c4aa-6530-4482-cbe2-3c9c293c591e"
      },
      "execution_count": 24,
      "outputs": [
        {
          "output_type": "stream",
          "name": "stdout",
          "text": [
            "{'name': 'Farwa', 'Age': 22, 'Grade': 'A'}\n",
            "{'name': 'Farwa', 'Age': 23, 'Grade': 'A+'}\n"
          ]
        }
      ]
    },
    {
      "cell_type": "markdown",
      "source": [
        "**List**"
      ],
      "metadata": {
        "id": "VW5k5X30DNPg"
      }
    },
    {
      "cell_type": "code",
      "source": [
        "numbers = [1,2,3,4,5,6,7,8,9,10]\n",
        "print(numbers)\n",
        "#Sum\n",
        "#print('Sum:', sum(numbers))\n",
        "#Max\n",
        "print('Max:', max(numbers))\n",
        "#Min\n",
        "print('Min:', min(numbers))\n",
        "#Add and remove\n",
        "numbers.append(50)\n",
        "numbers.remove(4)\n",
        "print('Updated list',numbers)\n",
        "#Sorting in ascending and desecnding\n",
        "print('Ascending Order ',sorted(numbers))\n",
        "print('Descending Order ',sorted(numbers,reverse=True))\n"
      ],
      "metadata": {
        "colab": {
          "base_uri": "https://localhost:8080/"
        },
        "id": "tFDaRLlvKw_x",
        "outputId": "0e05c868-6ad3-42ca-b64a-77ee21e960f0"
      },
      "execution_count": null,
      "outputs": [
        {
          "output_type": "stream",
          "name": "stdout",
          "text": [
            "[1, 2, 3, 4, 5, 6, 7, 8, 9, 10]\n",
            "Max: 10\n",
            "Min: 1\n",
            "Updated list [1, 2, 3, 5, 6, 7, 8, 9, 10, 50]\n",
            "Ascending Order  [1, 2, 3, 5, 6, 7, 8, 9, 10, 50]\n",
            "Descending Order  [50, 10, 9, 8, 7, 6, 5, 3, 2, 1]\n"
          ]
        }
      ]
    },
    {
      "cell_type": "markdown",
      "source": [
        "**Tuple**"
      ],
      "metadata": {
        "id": "sYLmf-YWDSmZ"
      }
    },
    {
      "cell_type": "code",
      "source": [
        "fruits=(\"Apple\",\"Banana\",\"Grapes\",\"Orange\",\"Pomegranate\")\n",
        "print(fruits)\n",
        "print('Second Fruit: ',fruits[1])\n",
        "print('Last Fruit: ',fruits[-1])\n",
        "#convert tuple to list (no modification in tuple)\n",
        "# convert_to_list=list(fruits)\n",
        "# convert_to_list[3]=\"Apricot\"\n",
        "# print('Modified List',convert_to_list)"
      ],
      "metadata": {
        "colab": {
          "base_uri": "https://localhost:8080/"
        },
        "id": "iWBa4rIGMOWJ",
        "outputId": "2b8ca22a-aa23-494b-c2ad-4cf6d6df007a"
      },
      "execution_count": 25,
      "outputs": [
        {
          "output_type": "stream",
          "name": "stdout",
          "text": [
            "('Apple', 'Banana', 'Grapes', 'Orange', 'Pomegranate')\n",
            "Second Fruit:  Banana\n",
            "Last Fruit:  Pomegranate\n"
          ]
        }
      ]
    },
    {
      "cell_type": "markdown",
      "source": [
        "**Set**"
      ],
      "metadata": {
        "id": "5PpSjSneDUvR"
      }
    },
    {
      "cell_type": "code",
      "source": [
        "set1={1,2,3,4,5}\n",
        "set2={5,6,7,8,9}\n",
        "#union intersection\n",
        "print('Union',set1 | set2)\n",
        "print('Intersection',set1 & set2)\n",
        "print('Difference',set1 - set2)\n",
        "# add remove\n",
        "set1.add(12)\n",
        "set2.remove(8)\n",
        "print(set1)\n",
        "print(set2)\n",
        "\n"
      ],
      "metadata": {
        "colab": {
          "base_uri": "https://localhost:8080/"
        },
        "id": "cOS-LAfZWFVR",
        "outputId": "7c960d8a-4627-4a0f-b745-ad4b53e4d583"
      },
      "execution_count": 22,
      "outputs": [
        {
          "output_type": "stream",
          "name": "stdout",
          "text": [
            "Union {1, 2, 3, 4, 5, 6, 7, 8, 9}\n",
            "Intersection {5}\n",
            "Difference {1, 2, 3, 4}\n",
            "{1, 2, 3, 4, 5, 12}\n",
            "{5, 6, 7, 9}\n"
          ]
        }
      ]
    }
  ]
}