{
  "nbformat": 4,
  "nbformat_minor": 0,
  "metadata": {
    "colab": {
      "provenance": [],
      "authorship_tag": "ABX9TyP7cG6p5N842oLuFCzUdkh/",
      "include_colab_link": true
    },
    "kernelspec": {
      "name": "python3",
      "display_name": "Python 3"
    },
    "language_info": {
      "name": "python"
    }
  },
  "cells": [
    {
      "cell_type": "markdown",
      "metadata": {
        "id": "view-in-github",
        "colab_type": "text"
      },
      "source": [
        "<a href=\"https://colab.research.google.com/github/Farwa-Khalid/AI-lab-Sp23-BCS-106-/blob/main/LabTask1.ipynb\" target=\"_parent\"><img src=\"https://colab.research.google.com/assets/colab-badge.svg\" alt=\"Open In Colab\"/></a>"
      ]
    },
    {
      "cell_type": "code",
      "execution_count": null,
      "metadata": {
        "id": "C4Df8_ic2Y9p"
      },
      "outputs": [],
      "source": []
    },
    {
      "cell_type": "markdown",
      "source": [
        "Farwa Khalid\n",
        "Sp23-BCS-106\n",
        "Artificial Intelligence Lab **bold text**"
      ],
      "metadata": {
        "id": "WyMpZJY42eR5"
      }
    },
    {
      "cell_type": "code",
      "source": [
        "print(\"Im Farwa Khalid\")\n",
        "print(\"Im a Computer science student\")"
      ],
      "metadata": {
        "colab": {
          "base_uri": "https://localhost:8080/"
        },
        "id": "6Te8uRcP3R4E",
        "outputId": "797f531a-4644-429d-a5c8-28492c13f435"
      },
      "execution_count": 1,
      "outputs": [
        {
          "output_type": "stream",
          "name": "stdout",
          "text": [
            "Im Farwa Khalid\n",
            "Im a Computer science student\n"
          ]
        }
      ]
    },
    {
      "cell_type": "markdown",
      "source": [
        "**Comments**"
      ],
      "metadata": {
        "id": "ZcDMLisX4dd-"
      }
    },
    {
      "cell_type": "code",
      "source": [
        "#comments\n",
        "print(\"Comments in python are reprezented by #\")"
      ],
      "metadata": {
        "colab": {
          "base_uri": "https://localhost:8080/"
        },
        "id": "KIwk9A623hvq",
        "outputId": "ff333f6c-5075-4221-80ae-1fe39bf5bdd3"
      },
      "execution_count": 2,
      "outputs": [
        {
          "output_type": "stream",
          "name": "stdout",
          "text": [
            "Comments in python are reprezented by #\n"
          ]
        }
      ]
    },
    {
      "cell_type": "markdown",
      "source": [
        "**Creating Variables**"
      ],
      "metadata": {
        "id": "13IbKmRo4k8f"
      }
    },
    {
      "cell_type": "code",
      "source": [
        "x=\"Farwa\"\n",
        "y=\"I love Programming\"\n",
        "z=x+y\n",
        "print(x)\n",
        "print(y)\n",
        "print(x+y)"
      ],
      "metadata": {
        "colab": {
          "base_uri": "https://localhost:8080/"
        },
        "id": "zUM6PZSV3xR0",
        "outputId": "c06da1a0-02a8-4aea-926f-f9f62637ccc6"
      },
      "execution_count": 3,
      "outputs": [
        {
          "output_type": "stream",
          "name": "stdout",
          "text": [
            "Farwa\n",
            "I love Programming\n",
            "FarwaI love Programming\n"
          ]
        }
      ]
    },
    {
      "cell_type": "markdown",
      "source": [
        "**Type Casting**"
      ],
      "metadata": {
        "id": "BSjf10kR4ygq"
      }
    },
    {
      "cell_type": "code",
      "source": [
        "x=str(\"Farwa\")\n",
        "y=float(3)\n",
        "z=int(4)\n",
        "print(x)\n",
        "print(y)\n",
        "print(z)"
      ],
      "metadata": {
        "colab": {
          "base_uri": "https://localhost:8080/"
        },
        "id": "41nxdDvJ3-8_",
        "outputId": "209191c8-5e12-4ed8-984f-dcbc17cbabdc"
      },
      "execution_count": 4,
      "outputs": [
        {
          "output_type": "stream",
          "name": "stdout",
          "text": [
            "Farwa\n",
            "3.0\n",
            "4\n"
          ]
        }
      ]
    },
    {
      "cell_type": "markdown",
      "source": [
        "**Get Type **"
      ],
      "metadata": {
        "id": "ty8yFKTN42DH"
      }
    },
    {
      "cell_type": "code",
      "source": [
        "x=5\n",
        "y=9.0\n",
        "z='a'\n",
        "print(type(x))\n",
        "print(type(y))\n",
        "print(type(z))"
      ],
      "metadata": {
        "colab": {
          "base_uri": "https://localhost:8080/"
        },
        "id": "gsxf-dnu44w1",
        "outputId": "247eb53f-eeea-47b1-8fc6-6a75f72ff787"
      },
      "execution_count": 5,
      "outputs": [
        {
          "output_type": "stream",
          "name": "stdout",
          "text": [
            "<class 'int'>\n",
            "<class 'float'>\n",
            "<class 'str'>\n"
          ]
        }
      ]
    },
    {
      "cell_type": "markdown",
      "source": [
        "**Case-sensitivensess**"
      ],
      "metadata": {
        "id": "ihrOJfpJ5QGV"
      }
    },
    {
      "cell_type": "code",
      "source": [
        "a=5\n",
        "A=\"Alyana\"\n",
        "print(a)\n",
        "print(A)"
      ],
      "metadata": {
        "colab": {
          "base_uri": "https://localhost:8080/"
        },
        "id": "9w1Ec1-C5a-y",
        "outputId": "0b56de34-6a1c-4737-d179-4e33e53fdfec"
      },
      "execution_count": 6,
      "outputs": [
        {
          "output_type": "stream",
          "name": "stdout",
          "text": [
            "5\n",
            "Alyana\n"
          ]
        }
      ]
    },
    {
      "cell_type": "markdown",
      "source": [
        "**Multiple Variables**"
      ],
      "metadata": {
        "id": "qNcTZEb65gV2"
      }
    },
    {
      "cell_type": "code",
      "source": [
        "x,y,z=\"Apple\",\"Guava\",\"Orange\"\n",
        "print(x)\n",
        "print(y)\n",
        "print(z)"
      ],
      "metadata": {
        "colab": {
          "base_uri": "https://localhost:8080/"
        },
        "id": "TxmMY3tK5sxX",
        "outputId": "a356abb7-e303-4009-e9a6-6e77a324e191"
      },
      "execution_count": 7,
      "outputs": [
        {
          "output_type": "stream",
          "name": "stdout",
          "text": [
            "Apple\n",
            "Guava\n",
            "Orange\n"
          ]
        }
      ]
    },
    {
      "cell_type": "markdown",
      "source": [
        "**One Value to Multiple Variables**"
      ],
      "metadata": {
        "id": "oJYRyGgj53xM"
      }
    },
    {
      "cell_type": "code",
      "source": [
        "x=y=z=\"Bottle\"\n",
        "print(x)\n",
        "print(y)\n",
        "print(z)"
      ],
      "metadata": {
        "colab": {
          "base_uri": "https://localhost:8080/"
        },
        "id": "5BHxnU6A55fP",
        "outputId": "2fd43288-3a38-4bf6-a49c-1d893e0b4c24"
      },
      "execution_count": 8,
      "outputs": [
        {
          "output_type": "stream",
          "name": "stdout",
          "text": [
            "Bottle\n",
            "Bottle\n",
            "Bottle\n"
          ]
        }
      ]
    },
    {
      "cell_type": "markdown",
      "source": [
        "**Global Variables**"
      ],
      "metadata": {
        "id": "NqqirjdO6D6r"
      }
    },
    {
      "cell_type": "code",
      "source": [
        "greet=\"Hello\"\n",
        "def greetings():\n",
        "  name=\"farwa\"\n",
        "  print(greet +\" \", name)\n",
        "greetings()\n"
      ],
      "metadata": {
        "colab": {
          "base_uri": "https://localhost:8080/"
        },
        "id": "J1YaAqWj6Fke",
        "outputId": "2e780639-db14-4e40-8b02-e1648a8f87a5"
      },
      "execution_count": 13,
      "outputs": [
        {
          "output_type": "stream",
          "name": "stdout",
          "text": [
            "Hello  farwa\n"
          ]
        }
      ]
    },
    {
      "cell_type": "markdown",
      "source": [
        "**Dictionary**"
      ],
      "metadata": {
        "id": "s4FG1LCV6sHk"
      }
    },
    {
      "cell_type": "code",
      "source": [
        "dict={\"Name\":\"Farwa\",\"Age\":\"22\",\"Grade\":\"A\"}\n",
        "print(dict)"
      ],
      "metadata": {
        "colab": {
          "base_uri": "https://localhost:8080/"
        },
        "id": "wFD_Km716u1s",
        "outputId": "f70118ec-0279-4f99-8051-2910aaa96fce"
      },
      "execution_count": 14,
      "outputs": [
        {
          "output_type": "stream",
          "name": "stdout",
          "text": [
            "{'Name': 'Farwa', 'Age': '22', 'Grade': 'A'}\n"
          ]
        }
      ]
    },
    {
      "cell_type": "markdown",
      "source": [
        "**No Duplications Allowed In Dictionary**"
      ],
      "metadata": {
        "id": "hFBQO3h06-Dq"
      }
    },
    {
      "cell_type": "code",
      "source": [
        "dict={\"Name\":\"Farwa\",\"Age\":\"22\",\"Grade\":\"A\",\"Grade\":\"B\"} #overriding\n",
        "print(dict)"
      ],
      "metadata": {
        "colab": {
          "base_uri": "https://localhost:8080/"
        },
        "id": "w2wt6PQi7Cjr",
        "outputId": "849ff5c3-4c31-47e7-8e07-e22430ba17bc"
      },
      "execution_count": 15,
      "outputs": [
        {
          "output_type": "stream",
          "name": "stdout",
          "text": [
            "{'Name': 'Farwa', 'Age': '22', 'Grade': 'B'}\n"
          ]
        }
      ]
    },
    {
      "cell_type": "markdown",
      "source": [
        "**Finding Length Of Dictionary**"
      ],
      "metadata": {
        "id": "WwwwJHsF7Nsf"
      }
    },
    {
      "cell_type": "code",
      "source": [
        "dict={\"Name\":\"Farwa\",\"Age\":\"22\",\"Grade\":\"A\"}\n",
        "print(len(dict))"
      ],
      "metadata": {
        "colab": {
          "base_uri": "https://localhost:8080/"
        },
        "id": "SOPFujqp7RL_",
        "outputId": "45fb0e87-1357-4d14-b44f-61bbb087c855"
      },
      "execution_count": 16,
      "outputs": [
        {
          "output_type": "stream",
          "name": "stdout",
          "text": [
            "3\n"
          ]
        }
      ]
    },
    {
      "cell_type": "markdown",
      "source": [
        "**Changing Values In Dictionary**"
      ],
      "metadata": {
        "id": "rY_nCiSz7j4H"
      }
    },
    {
      "cell_type": "code",
      "source": [
        "dict={\"Name\":\"Farwa\",\"Age\":\"22\",\"Grade\":\"A\"}\n",
        "dict[\"Name\"]=\"Ayesha\"\n",
        "print(dict)"
      ],
      "metadata": {
        "colab": {
          "base_uri": "https://localhost:8080/"
        },
        "id": "DqGTdL4M7m_5",
        "outputId": "703cdbc7-5cd9-49a6-bef4-ecd0436a9c08"
      },
      "execution_count": 17,
      "outputs": [
        {
          "output_type": "stream",
          "name": "stdout",
          "text": [
            "{'Name': 'Ayesha', 'Age': '22', 'Grade': 'A'}\n"
          ]
        }
      ]
    },
    {
      "cell_type": "markdown",
      "source": [
        "**Update Dictionary**"
      ],
      "metadata": {
        "id": "AGkmuArc7vPT"
      }
    },
    {
      "cell_type": "code",
      "source": [
        "dict={\"Name\":\"Farwa\",\"Age\":\"22\",\"Grade\":\"A\"}\n",
        "dict.update({\"Age\":5})\n",
        "print(dict)"
      ],
      "metadata": {
        "colab": {
          "base_uri": "https://localhost:8080/"
        },
        "id": "NZcMe8HJ7xo2",
        "outputId": "7b7ede86-6aee-455a-c4ed-a76f63e178a1"
      },
      "execution_count": 20,
      "outputs": [
        {
          "output_type": "stream",
          "name": "stdout",
          "text": [
            "{'Name': 'Farwa', 'Age': 5, 'Grade': 'A'}\n"
          ]
        }
      ]
    },
    {
      "cell_type": "markdown",
      "source": [
        "**If Else Statements**"
      ],
      "metadata": {
        "id": "eCDhDxAZA901"
      }
    },
    {
      "cell_type": "code",
      "source": [
        "a=100\n",
        "b=200\n",
        "if a<b:\n",
        "  print(\"a is less than b\")"
      ],
      "metadata": {
        "colab": {
          "base_uri": "https://localhost:8080/"
        },
        "id": "Tqh1H0bOBGFZ",
        "outputId": "5d73da66-0ab9-4012-f65c-55a7a5d109a4"
      },
      "execution_count": 21,
      "outputs": [
        {
          "output_type": "stream",
          "name": "stdout",
          "text": [
            "a is less than b\n"
          ]
        }
      ]
    },
    {
      "cell_type": "code",
      "source": [
        "a=100\n",
        "b=100\n",
        "if a ==b:\n",
        "  print(\"a and b are equal\")"
      ],
      "metadata": {
        "colab": {
          "base_uri": "https://localhost:8080/"
        },
        "id": "5wRo-oY4BTG_",
        "outputId": "73e8fcbe-cb8e-469c-9783-38f3d74cfe5e"
      },
      "execution_count": 22,
      "outputs": [
        {
          "output_type": "stream",
          "name": "stdout",
          "text": [
            "a and b are equal\n"
          ]
        }
      ]
    },
    {
      "cell_type": "code",
      "source": [
        "a=200\n",
        "b=100\n",
        "if a>b:\n",
        "  print(\"a is greater\")"
      ],
      "metadata": {
        "colab": {
          "base_uri": "https://localhost:8080/"
        },
        "id": "WBqVf_aUBB35",
        "outputId": "be1d4f34-a8dd-4b83-851d-ffafd929b114"
      },
      "execution_count": 23,
      "outputs": [
        {
          "output_type": "stream",
          "name": "stdout",
          "text": [
            "a is greater\n"
          ]
        }
      ]
    },
    {
      "cell_type": "markdown",
      "source": [
        "**While Loop**"
      ],
      "metadata": {
        "id": "actXExe4BmFX"
      }
    },
    {
      "cell_type": "code",
      "source": [
        "count=0\n",
        "while(count<=10):\n",
        "  print(count)\n",
        "  count+=1"
      ],
      "metadata": {
        "colab": {
          "base_uri": "https://localhost:8080/"
        },
        "id": "iKgl1UtRBpSa",
        "outputId": "72fd705e-17a2-454f-9e04-c4a0c20ae5c4"
      },
      "execution_count": 24,
      "outputs": [
        {
          "output_type": "stream",
          "name": "stdout",
          "text": [
            "0\n",
            "1\n",
            "2\n",
            "3\n",
            "4\n",
            "5\n",
            "6\n",
            "7\n",
            "8\n",
            "9\n",
            "10\n"
          ]
        }
      ]
    },
    {
      "cell_type": "markdown",
      "source": [
        "**For Loop**"
      ],
      "metadata": {
        "id": "ErGMmYrXB4fI"
      }
    },
    {
      "cell_type": "code",
      "source": [
        "fruits=[\"Apple\",\"Orange\",\"Cherry\",\"Grapes\",\"banana\"]\n",
        "for fruit in fruits:\n",
        "  print(fruit)"
      ],
      "metadata": {
        "colab": {
          "base_uri": "https://localhost:8080/"
        },
        "id": "90w6TZGNCAyL",
        "outputId": "285eaaea-bbae-4afc-eda6-f2d02e6f4c4a"
      },
      "execution_count": 25,
      "outputs": [
        {
          "output_type": "stream",
          "name": "stdout",
          "text": [
            "Apple\n",
            "Orange\n",
            "Cherry\n",
            "Grapes\n",
            "banana\n"
          ]
        }
      ]
    },
    {
      "cell_type": "markdown",
      "source": [
        "**Function**"
      ],
      "metadata": {
        "id": "t1GNunCpCNyy"
      }
    },
    {
      "cell_type": "code",
      "source": [
        "def greet():\n",
        "  print(\"Helloww\")\n",
        "greet()"
      ],
      "metadata": {
        "colab": {
          "base_uri": "https://localhost:8080/"
        },
        "id": "UP8vgRPpCPzs",
        "outputId": "91f4cd49-bb3b-4613-ea70-618f898c91f3"
      },
      "execution_count": 26,
      "outputs": [
        {
          "output_type": "stream",
          "name": "stdout",
          "text": [
            "Helloww\n"
          ]
        }
      ]
    },
    {
      "cell_type": "markdown",
      "source": [
        "**Function with parameters**"
      ],
      "metadata": {
        "id": "QQP1evqnCWqj"
      }
    },
    {
      "cell_type": "code",
      "source": [
        "def add(a,b):\n",
        "  return a+b\n",
        "a=5\n",
        "b=2\n",
        "result=add(a,b)\n",
        "print(result)"
      ],
      "metadata": {
        "colab": {
          "base_uri": "https://localhost:8080/"
        },
        "id": "RVY3tfjYCaBB",
        "outputId": "0d24f174-a697-4aa4-a926-a1487e97240b"
      },
      "execution_count": 27,
      "outputs": [
        {
          "output_type": "stream",
          "name": "stdout",
          "text": [
            "7\n"
          ]
        }
      ]
    }
  ]
}